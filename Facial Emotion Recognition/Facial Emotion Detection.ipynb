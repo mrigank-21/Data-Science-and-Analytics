{
 "cells": [
  {
   "cell_type": "code",
   "execution_count": 1,
   "id": "efd1d41b-17ea-40c7-b1e1-6f694e06aa68",
   "metadata": {},
   "outputs": [],
   "source": [
    "!pip install -q kaggle"
   ]
  },
  {
   "cell_type": "code",
   "execution_count": 3,
   "id": "8a3ab7c5-fdd8-480e-aaee-193b37b083a5",
   "metadata": {},
   "outputs": [],
   "source": [
    "import os\n",
    "os.environ['KAGGLE_CONFIG_DIR']=os.getcwd()"
   ]
  },
  {
   "cell_type": "code",
   "execution_count": 5,
   "id": "6c54d38b-599f-4448-a5df-d70b5b7e5504",
   "metadata": {},
   "outputs": [
    {
     "name": "stdout",
     "output_type": "stream",
     "text": [
      "Dataset URL: https://www.kaggle.com/datasets/muhammadhananasghar/human-emotions-datasethes\n",
      "License(s): unknown\n",
      "Downloading human-emotions-datasethes.zip to C:\\Users\\kmrig\\OneDrive - IIT Kanpur\\Desktop\\Data-Science-and-Analytics\\Facial Emotion Recognition\n",
      "\n"
     ]
    },
    {
     "name": "stderr",
     "output_type": "stream",
     "text": [
      "\n",
      "  0%|          | 0.00/309M [00:00<?, ?B/s]\n",
      " 21%|##        | 64.0M/309M [00:00<00:00, 663MB/s]\n",
      " 45%|####4     | 138M/309M [00:00<00:00, 727MB/s] \n",
      " 69%|######9   | 214M/309M [00:00<00:00, 752MB/s]\n",
      " 93%|#########3| 288M/309M [00:00<00:00, 761MB/s]\n",
      "100%|##########| 309M/309M [00:00<00:00, 747MB/s]\n"
     ]
    }
   ],
   "source": [
    "!kaggle datasets download muhammadhananasghar/human-emotions-datasethes"
   ]
  },
  {
   "cell_type": "code",
   "execution_count": 7,
   "id": "1f239403-f04c-4f46-931f-e95bcf368fb6",
   "metadata": {},
   "outputs": [
    {
     "data": {
      "text/plain": [
       "['.ipynb_checkpoints',\n",
       " 'Facial Emotion Detection.ipynb',\n",
       " 'human-emotions-datasethes.zip',\n",
       " 'kaggle.json',\n",
       " 'README']"
      ]
     },
     "execution_count": 7,
     "metadata": {},
     "output_type": "execute_result"
    }
   ],
   "source": [
    "os.listdir()"
   ]
  },
  {
   "cell_type": "code",
   "execution_count": 11,
   "id": "2846477b-89f5-42f1-9c51-44f3ced95131",
   "metadata": {},
   "outputs": [
    {
     "name": "stdout",
     "output_type": "stream",
     "text": [
      "Extraction complete!\n",
      "Files extracted to: C:\\Users\\kmrig\\OneDrive - IIT Kanpur\\Desktop\\Data-Science-and-Analytics\\Facial Emotion Recognition\\dataset\n"
     ]
    }
   ],
   "source": [
    "import zipfile\n",
    "zip_file = \"human-emotions-datasethes.zip\"\n",
    "extract_to = \"dataset\"\n",
    "os.makedirs(extract_to, exist_ok=True)\n",
    "with zipfile.ZipFile(zip_file, 'r') as zip_ref:\n",
    "    zip_ref.extractall(extract_to)\n",
    "print(\"Extraction complete!\")\n",
    "print(\"Files extracted to:\", os.path.abspath(extract_to))\n"
   ]
  },
  {
   "cell_type": "code",
   "execution_count": null,
   "id": "ea96c449-97f9-4e85-b009-6fcc6cf82e9a",
   "metadata": {},
   "outputs": [],
   "source": []
  }
 ],
 "metadata": {
  "kernelspec": {
   "display_name": "Python 3 (ipykernel)",
   "language": "python",
   "name": "python3"
  },
  "language_info": {
   "codemirror_mode": {
    "name": "ipython",
    "version": 3
   },
   "file_extension": ".py",
   "mimetype": "text/x-python",
   "name": "python",
   "nbconvert_exporter": "python",
   "pygments_lexer": "ipython3",
   "version": "3.11.7"
  }
 },
 "nbformat": 4,
 "nbformat_minor": 5
}
